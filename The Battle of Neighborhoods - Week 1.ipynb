{
    "cells": [
        {
            "cell_type": "markdown",
            "metadata": {
                "collapsed": true
            },
            "source": "# Captone Project\n## The Battle of Neighborhoods - Week # 1\nIntroduction:\n\nThe purpose of this Project is to help a client to get a new restaurant in Mahattan area, we sill use this notebook on python to analyse geo data and merge with Foursquare data to get conclusions. It will help my client to get a smart decisition to where to start a new business.\n\nIt will help my client to get awareness of the area and neighborhood that is suitable for his restaurant. Is not an easy task since Manhattan concentrates most of the restorants of the bay.\n\n\n"
        },
        {
            "cell_type": "markdown",
            "metadata": {},
            "source": "\n## Goal: select best location to open a new Korean Restaurant in Manhattan, New York City\n\nSince New York has world culture mixture i will try to find where to put a new restaurant. New York has about 600 hundreds korean restaurants. \nDuring last years korean cuisine got popular in the world and we need to figured out the best spot for new business. I will focus on Manhattan area since this island concentrate commerce, business, restaurants and tourism.\n"
        },
        {
            "cell_type": "markdown",
            "metadata": {},
            "source": "## Data available:\nNY Neighborhood Names and Foursquare data.\n\n### New York public data\n\nNew York City Neighborhood Names: https://geo.nyu.edu/catalog/nyu_2451_34572 \n### Foursquare API\nAs prime data gathering source as it has a database of places. To get restaurants names and/or venues that i could use to evaluate options\nUsing credentials of Foursquare API features of near-by places of the neighborhoods would be mined. Due to http request limitations the number of places per neighborhood parameter would reasonably be set to 100 and the radius parameter would be set to 500.\n\n#### Pandas\ni will use pandas library to manipulate data into dataframes, Pandas is very useful to manipulate data. I will merge and analyze city.\n#### Geopy \nto get lat,long of NY \n#### Folium\nto create an interactive leaflet map of venues\n\n#### k-means clustering algorithm\nI need to group into clusters to find similar neighborhoods in New York."
        },
        {
            "cell_type": "markdown",
            "metadata": {},
            "source": "### Importance of this project\nThis notebook will help my client to aid on smart move in business, since is a lot if investment he can not take a blind decision."
        },
        {
            "cell_type": "code",
            "execution_count": null,
            "metadata": {},
            "outputs": [],
            "source": ""
        }
    ],
    "metadata": {
        "kernelspec": {
            "display_name": "Python 3.7",
            "language": "python",
            "name": "python3"
        },
        "language_info": {
            "codemirror_mode": {
                "name": "ipython",
                "version": 3
            },
            "file_extension": ".py",
            "mimetype": "text/x-python",
            "name": "python",
            "nbconvert_exporter": "python",
            "pygments_lexer": "ipython3",
            "version": "3.7.9"
        }
    },
    "nbformat": 4,
    "nbformat_minor": 1
}