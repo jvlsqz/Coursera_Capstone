{
    "cells": [
        {
            "cell_type": "markdown",
            "metadata": {
                "collapsed": true
            },
            "source": "# Captone Project\n## The Battle of Neighborhoods - Week # 1\n\n### Goal: select best location to open a new Korean Restaurant in Manhattan, New York City\n\nSince New York has world culture mixture i will try to find where to put a new restaurant. New York has about 600 hundreds korean restaurants. \nDuring last years korean cuisine got popular in the world and we need to figured out the best spot for new business. I will focus on Manhattan area since this island concentrate commerce, business, restaurants and tourism.\n\n\n### Data available and how it will be used to solve the problem\nNew York City Neighborhood Names: https://geo.nyu.edu/catalog/nyu_2451_34572\n#### Pandas\ni will use pandas library to manipulate data into dataframes\n#### Geopy \nto get lat,long of NY\n#### Folium\nto create an interactive leaflet map of venues\n#### Foursquare API\nAs prime data gathering source as it has a database of places. To get restaurants names and/or venues that i could use to evaluate options\n#### k-means clustering algorithm\nI need to group into clusters to find similar neighborhoods in New York.\n"
        },
        {
            "cell_type": "code",
            "execution_count": null,
            "metadata": {},
            "outputs": [],
            "source": ""
        }
    ],
    "metadata": {
        "kernelspec": {
            "display_name": "Python 3.7",
            "language": "python",
            "name": "python3"
        },
        "language_info": {
            "codemirror_mode": {
                "name": "ipython",
                "version": 3
            },
            "file_extension": ".py",
            "mimetype": "text/x-python",
            "name": "python",
            "nbconvert_exporter": "python",
            "pygments_lexer": "ipython3",
            "version": "3.7.9"
        }
    },
    "nbformat": 4,
    "nbformat_minor": 1
}